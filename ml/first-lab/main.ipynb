{
 "cells": [
  {
   "cell_type": "code",
   "execution_count": 1,
   "metadata": {
    "autoscroll": false,
    "collapsed": false,
    "ein.hycell": false,
    "ein.tags": "worksheet-0",
    "slideshow": {
     "slide_type": "-"
    }
   },
   "outputs": [
    {
     "name": "stdout",
     "output_type": "stream",
     "text": [
      "(20, 10000)\n"
     ]
    }
   ],
   "source": [
    "import numpy as np\n",
    "from matplotlib import pyplot as plt\n",
    "\n",
    "\n",
    "i = np.loadtxt('characters/i.txt', delimiter=',')\n",
    "d = np.loadtxt('characters/d.txt', delimiter=',')\n",
    "\n",
    "n_letters = 2\n",
    "labels = [[0]] * len(d) + [[1]] * len(i)\n",
    "letters = np.concatenate((d, i))\n",
    "print(letters.shape)"
   ]
  },
  {
   "cell_type": "code",
   "execution_count": 2,
   "metadata": {
    "autoscroll": false,
    "collapsed": false,
    "ein.hycell": false,
    "ein.tags": "worksheet-0",
    "slideshow": {
     "slide_type": "-"
    }
   },
   "outputs": [
    {
     "data": {
      "image/png": "[encoded data removed]",
      "text/plain": [
       "<Figure size 720x720 with 16 Axes>"
      ]
     },
     "metadata": {},
     "output_type": "display_data"
    }
   ],
   "source": [
    "plt.figure(figsize=(10,10))\n",
    "arr = np.concatenate((letters[:8], letters[-8:]))\n",
    "for im in range(16):\n",
    "    plt.subplot(4, 4, im+1)\n",
    "    plt.xticks([])\n",
    "    plt.yticks([])\n",
    "    plt.grid(False)\n",
    "    plt.imshow(arr[im].reshape(100, 100).T, cmap=plt.cm.binary)"
   ]
  },
  {
   "cell_type": "code",
   "execution_count": 3,
   "metadata": {
    "autoscroll": false,
    "collapsed": false,
    "ein.hycell": false,
    "ein.tags": "worksheet-0",
    "slideshow": {
     "slide_type": "-"
    }
   },
   "outputs": [
    {
     "name": "stdout",
     "output_type": "stream",
     "text": [
      "(20, 2)\n"
     ]
    }
   ],
   "source": [
    "from sklearn.preprocessing import scale\n",
    "from sklearn.decomposition import PCA\n",
    "from sklearn.model_selection import train_test_split\n",
    "\n",
    "\n",
    "data = scale(letters)\n",
    "data = (data - data.mean()) / data.std()\n",
    "pca = PCA(n_components=n_letters).fit(data)\n",
    "tdata = pca.transform(data)\n",
    "print(tdata.shape)\n",
    "X_train, X_test, y_train, y_test = train_test_split(tdata, labels, test_size=0.3, random_state=0)"
   ]
  },
  {
   "cell_type": "code",
   "execution_count": 4,
   "metadata": {
    "autoscroll": false,
    "collapsed": false,
    "ein.hycell": false,
    "ein.tags": "worksheet-0",
    "slideshow": {
     "slide_type": "-"
    }
   },
   "outputs": [
    {
     "data": {
      "image/png": "[encoded data removed]",
      "text/plain": [
       "<Figure size 720x720 with 1 Axes>"
      ]
     },
     "metadata": {},
     "output_type": "display_data"
    }
   ],
   "source": [
    "i_points = pca.transform(scale(i))\n",
    "d_points = pca.transform(scale(d))\n",
    "\n",
    "plt.figure(figsize=(10,10))\n",
    "plt.scatter(d_points[:, 0], d_points[:, 1], color='red')\n",
    "plt.scatter(i_points[:, 0], i_points[:, 1], color='blue')\n",
    "plt.show()"
   ]
  },
  {
   "cell_type": "code",
   "execution_count": 7,
   "metadata": {
    "autoscroll": false,
    "collapsed": false,
    "ein.hycell": false,
    "ein.tags": "worksheet-0",
    "slideshow": {
     "slide_type": "-"
    }
   },
   "outputs": [
    {
     "name": "stdout",
     "output_type": "stream",
     "text": [
      "train loss:  9.99949844604401e-05\n",
      "test loss:  0.00019789891042072918\n",
      "test accuracy:  1.0\n"
     ]
    }
   ],
   "source": [
    "from mlp import MLP\n",
    "\n",
    "\n",
    "class mlp(MLP):\n",
    "\n",
    "    rate = 0.1\n",
    "    epoch = 10_000\n",
    "    loss = 0.0001\n",
    "\n",
    "    f = lambda x: 1 / (1 + np.exp(-x))\n",
    "    df = lambda x: x * (1 - x)\n",
    "\n",
    "    input = 2\n",
    "    hidden = [6, 6]\n",
    "    output = 1\n",
    "\n",
    "\n",
    "my_little_pony = mlp(X_train, y_train)\n",
    "print('train loss: ', np.mean(np.square(y_train - my_little_pony.predict(X_train))))\n",
    "print('test loss: ', np.mean(np.square(y_test - my_little_pony.predict(X_test))))\n",
    "print('test accuracy: ',\n",
    "(np.abs(my_little_pony.predict(X_test) -  y_test) < 0.1).sum() / len(X_test))"
   ]
  },
  {
   "cell_type": "code",
   "execution_count": 10,
   "metadata": {
    "autoscroll": false,
    "collapsed": false,
    "ein.hycell": false,
    "ein.tags": "worksheet-0",
    "slideshow": {
     "slide_type": "-"
    }
   },
   "outputs": [
    {
     "name": "stdout",
     "output_type": "stream",
     "text": [
      "predict value:  0.018335423346608128\n",
      "label:  d\n"
     ]
    }
   ],
   "source": [
    "from paint import Paint\n",
    "\n",
    "\n",
    "inp = pca.transform(Paint().value.reshape(1, -1))\n",
    "lbl = np.rint(my_little_pony.predict(inp)[0][0])\n",
    "\n",
    "is_d = np.allclose(lbl, 0, 0.5)\n",
    "is_i = np.allclose(lbl, 1, 0.5)\n",
    "\n",
    "print('predict value: ', my_little_pony.predict(inp)[0][0])\n",
    "print('label: ', 'd' if is_d else ('i' if is_i else 'unknown'))"
   ]
  }
 ],
 "metadata": {
  "kernelspec": {
   "display_name": "Python 3",
   "name": "python3"
  },
  "name": "main.ipynb"
 },
 "nbformat": 4,
 "nbformat_minor": 2
}
